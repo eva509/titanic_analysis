{
  "nbformat": 4,
  "nbformat_minor": 0,
  "metadata": {
    "colab": {
      "provenance": [],
      "authorship_tag": "ABX9TyMawBl2w4SXHNn24jk8caco",
      "include_colab_link": true
    },
    "kernelspec": {
      "name": "python3",
      "display_name": "Python 3"
    },
    "language_info": {
      "name": "python"
    }
  },
  "cells": [
    {
      "cell_type": "markdown",
      "metadata": {
        "id": "view-in-github",
        "colab_type": "text"
      },
      "source": [
        "<a href=\"https://colab.research.google.com/github/hui509/titanic_analysis/blob/main/%E5%B0%88%E9%A1%8C%E5%AF%A6%E4%BD%9C%EF%BD%9C01_%E9%90%B5%E9%81%94%E5%B0%BC%E8%99%9F%E5%AD%98%E6%B4%BB%E9%A0%90%E6%B8%AC.ipynb\" target=\"_parent\"><img src=\"https://colab.research.google.com/assets/colab-badge.svg\" alt=\"Open In Colab\"/></a>"
      ]
    },
    {
      "cell_type": "markdown",
      "source": [
        "# 專題實作 #01 鐵達尼號存活預測"
      ],
      "metadata": {
        "id": "ydMKEcvAfYz4"
      }
    },
    {
      "cell_type": "markdown",
      "source": [
        "# 載入Titanic資料集的 `train.csv` 資料集\n",
        "（資料網址：https://raw.githubusercontent.com/dsindy/kaggle-titanic/master/data/train.csv）\n"
      ],
      "metadata": {
        "id": "i4gFarNiBaB8"
      }
    },
    {
      "cell_type": "code",
      "source": [
        "import pandas as pd\n",
        "url = 'https://raw.githubusercontent.com/dsindy/kaggle-titanic/master/data/train.csv'\n",
        "df = pd.read_csv(url)\n",
        "df"
      ],
      "metadata": {
        "id": "9idB5Oo3B7Ss"
      },
      "execution_count": null,
      "outputs": []
    },
    {
      "cell_type": "markdown",
      "source": [
        "# 定義 Titanic 資料中各個欄位"
      ],
      "metadata": {
        "id": "ODzRYVQxElDE"
      }
    },
    {
      "cell_type": "code",
      "source": [
        "col = {'en':['PassengerId', 'Survived', 'Pclass', 'Name', 'Sex', 'Age', 'SibSp','Parch', 'Ticket', 'Fare', 'Cabin', 'Embarked'],\n",
        "    'ch':['乘客ID','生存狀態','艙等','姓名','性別','年紀','兄弟姐妹/配偶的数量','父母/子女的数量','船票號碼','船票價格','艙位號碼','登船港口'],\n",
        "    'note':['','0 = No, 1 = Yes','1 = 1st, 2 = 2nd, 3 = 3rd','','','','','','','','','C = Cherbourg, Q = Queenstown, S = Southampton']   }\n",
        "content = pd.DataFrame(col)\n",
        "content"
      ],
      "metadata": {
        "id": "4WFKZ39nFLvl"
      },
      "execution_count": null,
      "outputs": []
    },
    {
      "cell_type": "markdown",
      "source": [
        "# 說明「數值欄位/類別欄位」與「是否生存欄位」的關係程度"
      ],
      "metadata": {
        "id": "YB7yKe7wMgVF"
      }
    },
    {
      "cell_type": "markdown",
      "source": [
        "1. 整理數據，並轉換成可用的型態\n"
      ],
      "metadata": {
        "id": "0bld6r0UYm6h"
      }
    },
    {
      "cell_type": "code",
      "source": [
        "# 處理缺失值、刪除非數值資料\n",
        "titanic = df.copy()\n",
        "titanic.dropna(inplace=True)\n",
        "titanic.drop(columns=['Name','Ticket','Cabin'],axis=1,inplace=True)\n",
        "\n",
        "# 轉換Sex、Embarked欄位\n",
        "titanic_onehotencoded = pd.get_dummies(titanic,columns=['Sex','Embarked'],dtype=int)\n",
        "titanic_onehotencoded\n"
      ],
      "metadata": {
        "id": "un2SrDhkOPpO"
      },
      "execution_count": null,
      "outputs": []
    },
    {
      "cell_type": "markdown",
      "source": [
        "2. 使用 Pearson 係數計算相關性"
      ],
      "metadata": {
        "id": "mIoMkTu5UCJ4"
      }
    },
    {
      "cell_type": "code",
      "source": [
        "correlation_matrix = titanic_onehotencoded.corr()\n",
        "correlation_matrix\n"
      ],
      "metadata": {
        "id": "fvCm2AdZa_Ah"
      },
      "execution_count": null,
      "outputs": []
    },
    {
      "cell_type": "markdown",
      "source": [
        "3. 使用seaborn和matplotlib，視覺化呈現相關性"
      ],
      "metadata": {
        "id": "M-Wr5zRmmAQ7"
      }
    },
    {
      "cell_type": "code",
      "source": [
        "import seaborn as sns\n",
        "import matplotlib.pyplot as plt\n",
        "\n",
        "plt.figure(figsize=(10,8))\n",
        "sns.heatmap(correlation_matrix,annot=True,linewidth=0.5,cmap='coolwarm')\n",
        "plt.title('Correlation Matrix of Titanic')\n",
        "plt.show()\n"
      ],
      "metadata": {
        "id": "JiTWwwlimF4b"
      },
      "execution_count": null,
      "outputs": []
    },
    {
      "cell_type": "markdown",
      "source": [
        "# 結論：\n",
        "# 1. 在相關係數中，數值結果越接近正負1時，其相關性越大。\n",
        "# 2. 此案例「性別Sex」和「年紀Age」兩欄位與生存欄位關係較大。"
      ],
      "metadata": {
        "id": "SqNkUUjwqo8n"
      }
    }
  ]
}