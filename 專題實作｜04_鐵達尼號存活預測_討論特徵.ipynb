{
  "nbformat": 4,
  "nbformat_minor": 0,
  "metadata": {
    "colab": {
      "provenance": [],
      "authorship_tag": "ABX9TyOmK5tfAkr+kzW/0ZGDq93J",
      "include_colab_link": true
    },
    "kernelspec": {
      "name": "python3",
      "display_name": "Python 3"
    },
    "language_info": {
      "name": "python"
    }
  },
  "cells": [
    {
      "cell_type": "markdown",
      "metadata": {
        "id": "view-in-github",
        "colab_type": "text"
      },
      "source": [
        "<a href=\"https://colab.research.google.com/github/hui509/titanic_analysis/blob/main/%E5%B0%88%E9%A1%8C%E5%AF%A6%E4%BD%9C%EF%BD%9C04_%E9%90%B5%E9%81%94%E5%B0%BC%E8%99%9F%E5%AD%98%E6%B4%BB%E9%A0%90%E6%B8%AC_%E8%A8%8E%E8%AB%96%E7%89%B9%E5%BE%B5.ipynb\" target=\"_parent\"><img src=\"https://colab.research.google.com/assets/colab-badge.svg\" alt=\"Open In Colab\"/></a>"
      ]
    },
    {
      "cell_type": "markdown",
      "source": [
        "# 專題實作 #04 鐵達尼號存活預測_討論特徵"
      ],
      "metadata": {
        "id": "ydMKEcvAfYz4"
      }
    },
    {
      "cell_type": "markdown",
      "source": [
        "# **載入Titanic資料集的 `train.csv` 資料集**\n",
        "（資料網址：https://raw.githubusercontent.com/dsindy/kaggle-titanic/master/data/train.csv）"
      ],
      "metadata": {
        "id": "JxGQkbJbH_VM"
      }
    },
    {
      "cell_type": "code",
      "source": [
        "import pandas as pd\n",
        "url = 'https://raw.githubusercontent.com/dsindy/kaggle-titanic/master/data/train.csv'\n",
        "df = pd.read_csv(url)"
      ],
      "metadata": {
        "id": "9idB5Oo3B7Ss"
      },
      "execution_count": null,
      "outputs": []
    },
    {
      "cell_type": "markdown",
      "source": [
        "# **資料概況**"
      ],
      "metadata": {
        "id": "ODzRYVQxElDE"
      }
    },
    {
      "cell_type": "markdown",
      "source": [
        "1. Titanic 各欄位的定義\n",
        "* PassengerId：乘客ID\n",
        "* Survived：生存狀態（0=No，1=Yes）  \n",
        "* Pclass：艙等 （1=1st, 2=2nd, 3=3rd）\n",
        "* Name：姓名  \n",
        "* Sex：性別  \n",
        "* Age：年紀\n",
        "* SibSp：兄弟姐妹/配偶的数量\n",
        "* Parch：父母/子女的数量\n",
        "* Ticket：船票號碼\n",
        "* Fare：船票價格\n",
        "* Cabin：艙位號碼\n",
        "* Embarked：登船港口（C=Cherbourg,　Q=Queenstown,　S=Southampton）\n",
        "\n",
        "\n"
      ],
      "metadata": {
        "id": "WzEfCpUpFnwE"
      }
    },
    {
      "cell_type": "markdown",
      "source": [
        "2. 基本資料"
      ],
      "metadata": {
        "id": "5pmD7hLCF4Jk"
      }
    },
    {
      "cell_type": "code",
      "source": [
        "df.info()"
      ],
      "metadata": {
        "id": "XmKZxgtfKYVm"
      },
      "execution_count": null,
      "outputs": []
    },
    {
      "cell_type": "code",
      "source": [
        "df.describe()"
      ],
      "metadata": {
        "id": "86H-OPF-KcnF"
      },
      "execution_count": null,
      "outputs": []
    },
    {
      "cell_type": "code",
      "source": [
        "df.isnull().sum()"
      ],
      "metadata": {
        "id": "7SfXfgGVKmF9"
      },
      "execution_count": null,
      "outputs": []
    },
    {
      "cell_type": "markdown",
      "source": [
        "# **資料探索與分析 (EDA)**"
      ],
      "metadata": {
        "id": "1smZBSkmqW0j"
      }
    },
    {
      "cell_type": "markdown",
      "source": [
        "**1. 初步發現：排除 Name、Sex、Ticket、Cabin、Embarked 五項非數值資料下，**\n",
        "**可見「Fare」與「Survived」的正相關性最高**\n"
      ],
      "metadata": {
        "id": "An5pyPozXtIR"
      }
    },
    {
      "cell_type": "code",
      "source": [
        "# 使用 Pearson 係數計算相關性\n",
        "cor = df.corr()"
      ],
      "metadata": {
        "id": "cJPDD3aELDjt"
      },
      "execution_count": null,
      "outputs": []
    },
    {
      "cell_type": "code",
      "source": [
        "# 使用seaborn和matplotlib，視覺化呈現相關性\n",
        "import seaborn as sns\n",
        "import matplotlib.pyplot as plt\n",
        "\n",
        "plt.figure(figsize=(10,8))\n",
        "sns.heatmap(cor,annot=True,linewidth=0.5,cmap='coolwarm')\n",
        "plt.title('Correlation Matrix of Titanic')\n",
        "plt.show()"
      ],
      "metadata": {
        "id": "UCeVZZ1r9JNp"
      },
      "execution_count": null,
      "outputs": []
    },
    {
      "cell_type": "markdown",
      "source": [
        "**2. 進階討論：低票價的乘客，存活機會較低**\n",
        "\n"
      ],
      "metadata": {
        "id": "IT3sOgPNsMmF"
      }
    },
    {
      "cell_type": "code",
      "source": [
        "# 定義distribution函數，以KDE圖觀察欄位與Survived之間的關係\n",
        "\n",
        "def distribution(df,var,target,**kwargs):\n",
        "  # 設定row和col參數\n",
        "  row = kwargs.get('row',None)\n",
        "  col = kwargs.get('col',None)\n",
        "\n",
        "  # 使用seaborn函數製圖\n",
        "  facet = sns.FacetGrid(df,row=row,col=col,hue=target,aspect=3)\n",
        "  facet.map(sns.kdeplot,var,fill=True)\n",
        "  facet.set(xlim=(0,df[var].max()))\n",
        "  facet.add_legend()"
      ],
      "metadata": {
        "id": "4WGzCtZ_8Q7u"
      },
      "execution_count": null,
      "outputs": []
    },
    {
      "cell_type": "code",
      "source": [
        "# 觀察Fare和Survived的關係\n",
        "distribution(df,var='Fare',target='Survived')\n",
        "plt.show()"
      ],
      "metadata": {
        "id": "624obztPR9jb"
      },
      "execution_count": null,
      "outputs": []
    },
    {
      "cell_type": "markdown",
      "source": [
        "**2. 其他發現：**\n",
        "\n",
        "*   **Age 中，15歲以下的少年存活機率較高**\n",
        "*   **Sex 中，女性乘客的存活機會高於男性**\n",
        "*   **Pclass 中，一等艙的乘客有較高的存活機會**\n",
        "*   **Embarked 中，從 Cherbourg 登船者的存活機會較高**\n",
        "\n"
      ],
      "metadata": {
        "id": "hQepq7SMavrz"
      }
    },
    {
      "cell_type": "code",
      "source": [
        "# 觀察Age和Survived的關係\n",
        "distribution(df,var='Age',target='Survived')\n",
        "plt.show()"
      ],
      "metadata": {
        "id": "hsgKxYCju27I"
      },
      "execution_count": null,
      "outputs": []
    },
    {
      "cell_type": "code",
      "source": [
        "# 定義categories函數，以長條圖觀察欄位與Survived之間的關係\n",
        "\n",
        "def categories(df,cat,target,**kwargs):\n",
        "  # 設定row和col參數\n",
        "  row = kwargs.get('row',None)\n",
        "  col = kwargs.get('col',None)\n",
        "\n",
        "  # 使用seaborn函數製圖\n",
        "  facet = sns.FacetGrid(df,row=row,col=col)\n",
        "  facet.map(sns.barplot,cat,target,color='lightblue')\n",
        "  facet.add_legend()"
      ],
      "metadata": {
        "id": "OiahDvu6SJq8"
      },
      "execution_count": null,
      "outputs": []
    },
    {
      "cell_type": "code",
      "source": [
        "# 觀察Sex和Survived的關係\n",
        "categories(df,cat='Sex',target='Survived')\n",
        "plt.show()"
      ],
      "metadata": {
        "id": "2U_5M6gTfvse"
      },
      "execution_count": null,
      "outputs": []
    },
    {
      "cell_type": "code",
      "source": [
        "# 觀察Pclass和Survived的關係\n",
        "categories(df,cat='Pclass',target='Survived')\n",
        "plt.show()"
      ],
      "metadata": {
        "id": "gh1t4PXYlZ-C"
      },
      "execution_count": null,
      "outputs": []
    },
    {
      "cell_type": "code",
      "source": [
        "# 觀察Embarked和Survived的關係\n",
        "categories(df,cat='Embarked',target='Survived')\n",
        "plt.show()"
      ],
      "metadata": {
        "id": "wmVtXxVNiXe2"
      },
      "execution_count": null,
      "outputs": []
    },
    {
      "cell_type": "markdown",
      "source": [
        "# **資料清理與型態轉換**"
      ],
      "metadata": {
        "id": "YB7yKe7wMgVF"
      }
    },
    {
      "cell_type": "markdown",
      "source": [
        "1. 刪除多餘的欄位\n",
        "* PassengerId：僅用以辨識乘客，無關生存\n",
        "* Name：危機時期，比較不可能出現唱名救援\n",
        "* Ticket：船票編號僅代表購買順序或核對資訊\n",
        "* Cabin：欄位中的缺失值(687)佔全體(891)中的77%\n"
      ],
      "metadata": {
        "id": "aM8su-VsSTCl"
      }
    },
    {
      "cell_type": "code",
      "source": [
        "titanic = df.copy()\n",
        "titanic.drop(columns=['PassengerId','Name','Ticket','Cabin'],axis=1,inplace=True)"
      ],
      "metadata": {
        "id": "B3aPdMCTTjRd"
      },
      "execution_count": null,
      "outputs": []
    },
    {
      "cell_type": "markdown",
      "source": [
        "2. 轉換類別欄位：Sex、Embarked\n",
        "* LabelEncoder：因欄位資料並非有序類別，故不考慮使用\n",
        "* OneHotEncoder：拆分Embarked為「Embarked_C、Embarked_Q、Embarked_S」\n"
      ],
      "metadata": {
        "id": "rAM8W8AxfdO4"
      }
    },
    {
      "cell_type": "code",
      "source": [
        "# Sex直接轉換\n",
        "titanic['Sex'] = titanic['Sex'].replace({'male':1,'female':0})\n",
        "\n",
        "# Embarked使用OneHotEncoder\n",
        "titanic = pd.get_dummies(titanic,columns=['Embarked'],dtype=int)"
      ],
      "metadata": {
        "id": "Qj147x8Wfb56"
      },
      "execution_count": null,
      "outputs": []
    },
    {
      "cell_type": "markdown",
      "source": [
        "# **資料缺失值處理**"
      ],
      "metadata": {
        "id": "2Ds2gfi8pXt7"
      }
    },
    {
      "cell_type": "markdown",
      "source": [
        "多種策略處理 Age 缺失值\n",
        "* titanic_del：全部刪除\n",
        "* titanic_mean：平均數填補缺\n",
        "* titanic_median：中位數填補\n",
        "* titanic_mode：眾數填補\n",
        "\n",
        "\n"
      ],
      "metadata": {
        "id": "0bld6r0UYm6h"
      }
    },
    {
      "cell_type": "code",
      "source": [
        "# 全部刪除\n",
        "titanic_del = titanic.copy()\n",
        "titanic_del.dropna(subset=['Age'],inplace=True)\n",
        "\n",
        "# 使用平均數填補\n",
        "titanic_mean = titanic.copy()\n",
        "titanic_mean['Age'].fillna(titanic_mean['Age'].mean(),inplace=True)\n",
        "\n",
        "# 使用中位數填補\n",
        "titanic_median = titanic.copy()\n",
        "titanic_median['Age'].fillna(titanic_median['Age'].median(),inplace=True)\n",
        "\n",
        "# 使用眾數填補\n",
        "titanic_mode = titanic.copy()\n",
        "titanic_mode['Age'].fillna(titanic_mode['Age'].mode()[0],inplace=True)\n"
      ],
      "metadata": {
        "id": "un2SrDhkOPpO"
      },
      "execution_count": null,
      "outputs": []
    },
    {
      "cell_type": "markdown",
      "source": [
        "# **特徵工程**"
      ],
      "metadata": {
        "id": "SArmmOSOlFIe"
      }
    },
    {
      "cell_type": "markdown",
      "source": [
        "乘客頭銜隱含社會地位，是否會影響生存機會？\n",
        "\n"
      ],
      "metadata": {
        "id": "evg_Xqo3uSwv"
      }
    },
    {
      "cell_type": "code",
      "source": [
        "# 定義extraction函數，抽取乘客頭銜\n",
        "def extraction(name):\n",
        "  title = name.split(',')[1].split('.')[0].strip()\n",
        "  return title\n",
        "\n",
        "# 新增Raw Title欄位放置抽取出的乘客頭銜\n",
        "df['Raw Title'] = df['Name'].map(extraction)"
      ],
      "metadata": {
        "id": "axRJAsOAHVUb"
      },
      "execution_count": null,
      "outputs": []
    },
    {
      "cell_type": "code",
      "source": [
        "# 觀察Name中頭銜的種類\n",
        "title_set = set()\n",
        "for name in df['Name']:\n",
        "  title_set.add(extraction(name))\n",
        "\n",
        "# 製作title對應的dictionary\n",
        "\n",
        "title_dict = {\n",
        "'Col':      'Officer',\n",
        "'Major':     'Officer',\n",
        "'Capt':      'Officer',\n",
        "'Jonkheer':    'Royalty',\n",
        "'Don':      'Royalty',\n",
        "'Dona':      'Royalty',\n",
        "'Sir':      'Royalty',\n",
        "'the Countess': 'Royalty',\n",
        "'Lady':      'Royalty',\n",
        "'Dr':       'Royalty',\n",
        "'Rev':      'Royalty',\n",
        "'Mr':       'Mr',\n",
        "'Ms':       'Ms',\n",
        "'Miss':      'Miss',\n",
        "'Mlle':      'Miss',\n",
        "'Mrs':       'Mrs',\n",
        "'Mme':       'Mrs',\n",
        "'Master':     'Master'\n",
        "}\n",
        "\n",
        "# 新增Title欄位放置經轉換的頭銜\n",
        "df['Title'] = df['Raw Title'].map(title_dict)"
      ],
      "metadata": {
        "id": "7P7UIxQmTQFK"
      },
      "execution_count": null,
      "outputs": []
    },
    {
      "cell_type": "code",
      "source": [
        "# 使用OneHotEncoder轉換類別欄位\n",
        "df_Title_ohe = pd.get_dummies(df['Title'], prefix='Title_')\n",
        "\n",
        "# 加入不同缺失值處理的變數中，以利後續模型比較\n",
        "titanic_del = titanic_del.join(df_Title_ohe)\n",
        "titanic_mean = titanic_mean.join(df_Title_ohe)\n",
        "titanic_median = titanic_median.join(df_Title_ohe)\n",
        "titanic_mode = titanic_mode.join(df_Title_ohe)\n"
      ],
      "metadata": {
        "id": "EXQbgft2IMZt"
      },
      "execution_count": null,
      "outputs": []
    },
    {
      "cell_type": "markdown",
      "source": [
        "# **模型分析**"
      ],
      "metadata": {
        "id": "A2vGFPLclnXi"
      }
    },
    {
      "cell_type": "markdown",
      "source": [
        "1. 評估 titanic_del 的準確度"
      ],
      "metadata": {
        "id": "I4ETiqQNz8AU"
      }
    },
    {
      "cell_type": "code",
      "source": [
        "# 定義特徵欄位X、目標欄位Y，並完成訓練集資料\n",
        "columns_X = set(titanic_del.columns) - {'Survived'}\n",
        "columns_y = ['Survived']\n",
        "\n",
        "train_X = titanic_del[list(columns_X)]\n",
        "train_y = titanic_del[columns_y]\n",
        "\n",
        "# 使用 Logistic Regression 模型，進行交叉驗證以評估準確度\n",
        "from sklearn.linear_model import LogisticRegression\n",
        "from sklearn.model_selection import cross_val_score\n",
        "\n",
        "log = LogisticRegression(random_state=0,max_iter=3000)\n",
        "scores_del = cross_val_score(log,train_X,train_y.values.ravel(),cv=5,scoring='accuracy')\n",
        "print(scores_del)\n",
        "print(scores_del.mean())"
      ],
      "metadata": {
        "id": "ltBr9Fh00OWK"
      },
      "execution_count": null,
      "outputs": []
    },
    {
      "cell_type": "markdown",
      "source": [
        "2. 評估 titanic_mean 的準確度"
      ],
      "metadata": {
        "id": "8zpfTTTj2imk"
      }
    },
    {
      "cell_type": "code",
      "source": [
        "columns_X = set(titanic_mean.columns) - {'Survived'}\n",
        "columns_y = ['Survived']\n",
        "\n",
        "train_X = titanic_mean[list(columns_X)]\n",
        "train_y = titanic_mean[columns_y]\n",
        "\n",
        "# 使用 Logistic Regression 模型，進行交叉驗證以評估準確度\n",
        "from sklearn.linear_model import LogisticRegression\n",
        "from sklearn.model_selection import cross_val_score\n",
        "\n",
        "log = LogisticRegression(random_state=0,max_iter=3000)\n",
        "scores_mean = cross_val_score(log,train_X,train_y.values.ravel(),cv=5,scoring='accuracy')\n",
        "print(scores_mean)\n",
        "print(scores_mean.mean())"
      ],
      "metadata": {
        "id": "4jhQOX6w21ra"
      },
      "execution_count": null,
      "outputs": []
    },
    {
      "cell_type": "markdown",
      "source": [
        "3. 評估 titanic_median 的準確度"
      ],
      "metadata": {
        "id": "fmSli6AK3Zoj"
      }
    },
    {
      "cell_type": "code",
      "source": [
        "columns_X = set(titanic_median.columns) - {'Survived'}\n",
        "columns_y = ['Survived']\n",
        "\n",
        "train_X = titanic_median[list(columns_X)]\n",
        "train_y = titanic_median[columns_y]\n",
        "\n",
        "# 使用 Logistic Regression 模型，進行交叉驗證以評估準確度\n",
        "from sklearn.linear_model import LogisticRegression\n",
        "from sklearn.model_selection import cross_val_score\n",
        "\n",
        "log = LogisticRegression(random_state=0,max_iter=3000)\n",
        "scores_median = cross_val_score(log,train_X,train_y.values.ravel(),cv=5,scoring='accuracy')\n",
        "print(scores_median)\n",
        "print(scores_median.mean())"
      ],
      "metadata": {
        "id": "CGhcdip43eES"
      },
      "execution_count": null,
      "outputs": []
    },
    {
      "cell_type": "markdown",
      "source": [
        "4. 評估 titanic_mode 的準確度"
      ],
      "metadata": {
        "id": "odD7qsiI3tFz"
      }
    },
    {
      "cell_type": "code",
      "source": [
        "columns_X = set(titanic_mode.columns) - {'Survived'}\n",
        "columns_y = ['Survived']\n",
        "\n",
        "train_X = titanic_mode[list(columns_X)]\n",
        "train_y = titanic_mode[columns_y]\n",
        "\n",
        "# 使用 Logistic Regression 模型，進行交叉驗證以評估準確度\n",
        "from sklearn.linear_model import LogisticRegression\n",
        "from sklearn.model_selection import cross_val_score\n",
        "\n",
        "log = LogisticRegression(random_state=0,max_iter=3000)\n",
        "scores_mode = cross_val_score(log,train_X,train_y.values.ravel(),cv=5,scoring='accuracy')\n",
        "print(scores_mode)\n",
        "print(scores_mode.mean())"
      ],
      "metadata": {
        "id": "IanNEdg13tt6"
      },
      "execution_count": null,
      "outputs": []
    },
    {
      "cell_type": "markdown",
      "source": [
        "5. **整理與比較：以平均數處理Age的缺失值，Accuracy較高**"
      ],
      "metadata": {
        "id": "IMfkpKw04Daj"
      }
    },
    {
      "cell_type": "code",
      "source": [
        "scores = {'strategy':['titanic_del','titanic_mean','titanic_median','titanic_mode'],\n",
        "        'accuracy':[scores_del.mean(),scores_mean.mean(),scores_median.mean(),scores_mode.mean()]}\n",
        "compared = pd.DataFrame(scores)\n",
        "compared.sort_values(by='accuracy',ascending=False)"
      ],
      "metadata": {
        "colab": {
          "base_uri": "https://localhost:8080/",
          "height": 175
        },
        "id": "eJVXZh5P4EyC",
        "outputId": "b4de0119-a4a1-406d-c8bd-b7f6479d2b87"
      },
      "execution_count": null,
      "outputs": [
        {
          "output_type": "execute_result",
          "data": {
            "text/plain": [
              "         strategy  accuracy\n",
              "1    titanic_mean  0.827148\n",
              "2  titanic_median  0.827148\n",
              "3    titanic_mode  0.826025\n",
              "0     titanic_del  0.816606"
            ],
            "text/html": [
              "\n",
              "  <div id=\"df-da3b944a-9037-478e-bdcf-7639b843549c\" class=\"colab-df-container\">\n",
              "    <div>\n",
              "<style scoped>\n",
              "    .dataframe tbody tr th:only-of-type {\n",
              "        vertical-align: middle;\n",
              "    }\n",
              "\n",
              "    .dataframe tbody tr th {\n",
              "        vertical-align: top;\n",
              "    }\n",
              "\n",
              "    .dataframe thead th {\n",
              "        text-align: right;\n",
              "    }\n",
              "</style>\n",
              "<table border=\"1\" class=\"dataframe\">\n",
              "  <thead>\n",
              "    <tr style=\"text-align: right;\">\n",
              "      <th></th>\n",
              "      <th>strategy</th>\n",
              "      <th>accuracy</th>\n",
              "    </tr>\n",
              "  </thead>\n",
              "  <tbody>\n",
              "    <tr>\n",
              "      <th>1</th>\n",
              "      <td>titanic_mean</td>\n",
              "      <td>0.827148</td>\n",
              "    </tr>\n",
              "    <tr>\n",
              "      <th>2</th>\n",
              "      <td>titanic_median</td>\n",
              "      <td>0.827148</td>\n",
              "    </tr>\n",
              "    <tr>\n",
              "      <th>3</th>\n",
              "      <td>titanic_mode</td>\n",
              "      <td>0.826025</td>\n",
              "    </tr>\n",
              "    <tr>\n",
              "      <th>0</th>\n",
              "      <td>titanic_del</td>\n",
              "      <td>0.816606</td>\n",
              "    </tr>\n",
              "  </tbody>\n",
              "</table>\n",
              "</div>\n",
              "    <div class=\"colab-df-buttons\">\n",
              "\n",
              "  <div class=\"colab-df-container\">\n",
              "    <button class=\"colab-df-convert\" onclick=\"convertToInteractive('df-da3b944a-9037-478e-bdcf-7639b843549c')\"\n",
              "            title=\"Convert this dataframe to an interactive table.\"\n",
              "            style=\"display:none;\">\n",
              "\n",
              "  <svg xmlns=\"http://www.w3.org/2000/svg\" height=\"24px\" viewBox=\"0 -960 960 960\">\n",
              "    <path d=\"M120-120v-720h720v720H120Zm60-500h600v-160H180v160Zm220 220h160v-160H400v160Zm0 220h160v-160H400v160ZM180-400h160v-160H180v160Zm440 0h160v-160H620v160ZM180-180h160v-160H180v160Zm440 0h160v-160H620v160Z\"/>\n",
              "  </svg>\n",
              "    </button>\n",
              "\n",
              "  <style>\n",
              "    .colab-df-container {\n",
              "      display:flex;\n",
              "      gap: 12px;\n",
              "    }\n",
              "\n",
              "    .colab-df-convert {\n",
              "      background-color: #E8F0FE;\n",
              "      border: none;\n",
              "      border-radius: 50%;\n",
              "      cursor: pointer;\n",
              "      display: none;\n",
              "      fill: #1967D2;\n",
              "      height: 32px;\n",
              "      padding: 0 0 0 0;\n",
              "      width: 32px;\n",
              "    }\n",
              "\n",
              "    .colab-df-convert:hover {\n",
              "      background-color: #E2EBFA;\n",
              "      box-shadow: 0px 1px 2px rgba(60, 64, 67, 0.3), 0px 1px 3px 1px rgba(60, 64, 67, 0.15);\n",
              "      fill: #174EA6;\n",
              "    }\n",
              "\n",
              "    .colab-df-buttons div {\n",
              "      margin-bottom: 4px;\n",
              "    }\n",
              "\n",
              "    [theme=dark] .colab-df-convert {\n",
              "      background-color: #3B4455;\n",
              "      fill: #D2E3FC;\n",
              "    }\n",
              "\n",
              "    [theme=dark] .colab-df-convert:hover {\n",
              "      background-color: #434B5C;\n",
              "      box-shadow: 0px 1px 3px 1px rgba(0, 0, 0, 0.15);\n",
              "      filter: drop-shadow(0px 1px 2px rgba(0, 0, 0, 0.3));\n",
              "      fill: #FFFFFF;\n",
              "    }\n",
              "  </style>\n",
              "\n",
              "    <script>\n",
              "      const buttonEl =\n",
              "        document.querySelector('#df-da3b944a-9037-478e-bdcf-7639b843549c button.colab-df-convert');\n",
              "      buttonEl.style.display =\n",
              "        google.colab.kernel.accessAllowed ? 'block' : 'none';\n",
              "\n",
              "      async function convertToInteractive(key) {\n",
              "        const element = document.querySelector('#df-da3b944a-9037-478e-bdcf-7639b843549c');\n",
              "        const dataTable =\n",
              "          await google.colab.kernel.invokeFunction('convertToInteractive',\n",
              "                                                    [key], {});\n",
              "        if (!dataTable) return;\n",
              "\n",
              "        const docLinkHtml = 'Like what you see? Visit the ' +\n",
              "          '<a target=\"_blank\" href=https://colab.research.google.com/notebooks/data_table.ipynb>data table notebook</a>'\n",
              "          + ' to learn more about interactive tables.';\n",
              "        element.innerHTML = '';\n",
              "        dataTable['output_type'] = 'display_data';\n",
              "        await google.colab.output.renderOutput(dataTable, element);\n",
              "        const docLink = document.createElement('div');\n",
              "        docLink.innerHTML = docLinkHtml;\n",
              "        element.appendChild(docLink);\n",
              "      }\n",
              "    </script>\n",
              "  </div>\n",
              "\n",
              "\n",
              "<div id=\"df-15888dff-0931-4339-9756-1f1a3a519ec7\">\n",
              "  <button class=\"colab-df-quickchart\" onclick=\"quickchart('df-15888dff-0931-4339-9756-1f1a3a519ec7')\"\n",
              "            title=\"Suggest charts.\"\n",
              "            style=\"display:none;\">\n",
              "\n",
              "<svg xmlns=\"http://www.w3.org/2000/svg\" height=\"24px\"viewBox=\"0 0 24 24\"\n",
              "     width=\"24px\">\n",
              "    <g>\n",
              "        <path d=\"M19 3H5c-1.1 0-2 .9-2 2v14c0 1.1.9 2 2 2h14c1.1 0 2-.9 2-2V5c0-1.1-.9-2-2-2zM9 17H7v-7h2v7zm4 0h-2V7h2v10zm4 0h-2v-4h2v4z\"/>\n",
              "    </g>\n",
              "</svg>\n",
              "  </button>\n",
              "\n",
              "<style>\n",
              "  .colab-df-quickchart {\n",
              "      --bg-color: #E8F0FE;\n",
              "      --fill-color: #1967D2;\n",
              "      --hover-bg-color: #E2EBFA;\n",
              "      --hover-fill-color: #174EA6;\n",
              "      --disabled-fill-color: #AAA;\n",
              "      --disabled-bg-color: #DDD;\n",
              "  }\n",
              "\n",
              "  [theme=dark] .colab-df-quickchart {\n",
              "      --bg-color: #3B4455;\n",
              "      --fill-color: #D2E3FC;\n",
              "      --hover-bg-color: #434B5C;\n",
              "      --hover-fill-color: #FFFFFF;\n",
              "      --disabled-bg-color: #3B4455;\n",
              "      --disabled-fill-color: #666;\n",
              "  }\n",
              "\n",
              "  .colab-df-quickchart {\n",
              "    background-color: var(--bg-color);\n",
              "    border: none;\n",
              "    border-radius: 50%;\n",
              "    cursor: pointer;\n",
              "    display: none;\n",
              "    fill: var(--fill-color);\n",
              "    height: 32px;\n",
              "    padding: 0;\n",
              "    width: 32px;\n",
              "  }\n",
              "\n",
              "  .colab-df-quickchart:hover {\n",
              "    background-color: var(--hover-bg-color);\n",
              "    box-shadow: 0 1px 2px rgba(60, 64, 67, 0.3), 0 1px 3px 1px rgba(60, 64, 67, 0.15);\n",
              "    fill: var(--button-hover-fill-color);\n",
              "  }\n",
              "\n",
              "  .colab-df-quickchart-complete:disabled,\n",
              "  .colab-df-quickchart-complete:disabled:hover {\n",
              "    background-color: var(--disabled-bg-color);\n",
              "    fill: var(--disabled-fill-color);\n",
              "    box-shadow: none;\n",
              "  }\n",
              "\n",
              "  .colab-df-spinner {\n",
              "    border: 2px solid var(--fill-color);\n",
              "    border-color: transparent;\n",
              "    border-bottom-color: var(--fill-color);\n",
              "    animation:\n",
              "      spin 1s steps(1) infinite;\n",
              "  }\n",
              "\n",
              "  @keyframes spin {\n",
              "    0% {\n",
              "      border-color: transparent;\n",
              "      border-bottom-color: var(--fill-color);\n",
              "      border-left-color: var(--fill-color);\n",
              "    }\n",
              "    20% {\n",
              "      border-color: transparent;\n",
              "      border-left-color: var(--fill-color);\n",
              "      border-top-color: var(--fill-color);\n",
              "    }\n",
              "    30% {\n",
              "      border-color: transparent;\n",
              "      border-left-color: var(--fill-color);\n",
              "      border-top-color: var(--fill-color);\n",
              "      border-right-color: var(--fill-color);\n",
              "    }\n",
              "    40% {\n",
              "      border-color: transparent;\n",
              "      border-right-color: var(--fill-color);\n",
              "      border-top-color: var(--fill-color);\n",
              "    }\n",
              "    60% {\n",
              "      border-color: transparent;\n",
              "      border-right-color: var(--fill-color);\n",
              "    }\n",
              "    80% {\n",
              "      border-color: transparent;\n",
              "      border-right-color: var(--fill-color);\n",
              "      border-bottom-color: var(--fill-color);\n",
              "    }\n",
              "    90% {\n",
              "      border-color: transparent;\n",
              "      border-bottom-color: var(--fill-color);\n",
              "    }\n",
              "  }\n",
              "</style>\n",
              "\n",
              "  <script>\n",
              "    async function quickchart(key) {\n",
              "      const quickchartButtonEl =\n",
              "        document.querySelector('#' + key + ' button');\n",
              "      quickchartButtonEl.disabled = true;  // To prevent multiple clicks.\n",
              "      quickchartButtonEl.classList.add('colab-df-spinner');\n",
              "      try {\n",
              "        const charts = await google.colab.kernel.invokeFunction(\n",
              "            'suggestCharts', [key], {});\n",
              "      } catch (error) {\n",
              "        console.error('Error during call to suggestCharts:', error);\n",
              "      }\n",
              "      quickchartButtonEl.classList.remove('colab-df-spinner');\n",
              "      quickchartButtonEl.classList.add('colab-df-quickchart-complete');\n",
              "    }\n",
              "    (() => {\n",
              "      let quickchartButtonEl =\n",
              "        document.querySelector('#df-15888dff-0931-4339-9756-1f1a3a519ec7 button');\n",
              "      quickchartButtonEl.style.display =\n",
              "        google.colab.kernel.accessAllowed ? 'block' : 'none';\n",
              "    })();\n",
              "  </script>\n",
              "</div>\n",
              "    </div>\n",
              "  </div>\n"
            ]
          },
          "metadata": {},
          "execution_count": 27
        }
      ]
    },
    {
      "cell_type": "markdown",
      "source": [
        "# **結論：**\n",
        "## **1. 特徵工程**\n",
        "> ### 乘客頭銜隱含社會地位，是否會影響生存機會？\n",
        "\n",
        "## **2. 模型分析**\n",
        "\n",
        "> ### ● 各種缺失值處理策略的 Accuracy 皆突破0.8，提升近4%\n",
        "> ### ● 加入特徵後，改以平均數填補的 Accuracy 位居首位，約為0.83\n"
      ],
      "metadata": {
        "id": "5U2hMK3drNcI"
      }
    }
  ]
}