{
  "nbformat": 4,
  "nbformat_minor": 0,
  "metadata": {
    "colab": {
      "provenance": [],
      "collapsed_sections": [
        "SqNkUUjwqo8n"
      ],
      "authorship_tag": "ABX9TyNOf7P6eM1Q1wbuaO3lhQ0c",
      "include_colab_link": true
    },
    "kernelspec": {
      "name": "python3",
      "display_name": "Python 3"
    },
    "language_info": {
      "name": "python"
    }
  },
  "cells": [
    {
      "cell_type": "markdown",
      "metadata": {
        "id": "view-in-github",
        "colab_type": "text"
      },
      "source": [
        "<a href=\"https://colab.research.google.com/github/hui509/titanic_analysis/blob/main/%E5%B0%88%E9%A1%8C%E5%AF%A6%E4%BD%9C%EF%BD%9C02_%E9%90%B5%E9%81%94%E5%B0%BC%E8%99%9F%E5%AD%98%E6%B4%BB%E9%A0%90%E6%B8%AC_Baseline.ipynb\" target=\"_parent\"><img src=\"https://colab.research.google.com/assets/colab-badge.svg\" alt=\"Open In Colab\"/></a>"
      ]
    },
    {
      "cell_type": "markdown",
      "source": [
        "# 專題實作 #02 鐵達尼號存活預測 Baseline"
      ],
      "metadata": {
        "id": "ydMKEcvAfYz4"
      }
    },
    {
      "cell_type": "markdown",
      "source": [
        "#  **資料分析的工作流程**\n"
      ],
      "metadata": {
        "id": "SqNkUUjwqo8n"
      }
    },
    {
      "cell_type": "markdown",
      "source": [
        "### 1. 取得資料 - 資料收集、讀取、儲存\n",
        "### 2. 資料前處理 - 資料清理、型態轉換、資料探索、視覺化、特徵工程\n",
        "### 3. 模型訓練\n",
        "### 4. 模型評估\n",
        "### 5. 應用決策  "
      ],
      "metadata": {
        "id": "S2b4XGyW_8BL"
      }
    },
    {
      "cell_type": "markdown",
      "source": [
        "# **載入Titanic資料集的 `train.csv` 資料集**\n",
        "（資料網址：https://raw.githubusercontent.com/dsindy/kaggle-titanic/master/data/train.csv）"
      ],
      "metadata": {
        "id": "JxGQkbJbH_VM"
      }
    },
    {
      "cell_type": "code",
      "source": [
        "import pandas as pd\n",
        "url = 'https://raw.githubusercontent.com/dsindy/kaggle-titanic/master/data/train.csv'\n",
        "df = pd.read_csv(url)\n",
        "df"
      ],
      "metadata": {
        "id": "9idB5Oo3B7Ss"
      },
      "execution_count": null,
      "outputs": []
    },
    {
      "cell_type": "markdown",
      "source": [
        "# **資料概況與觀察**"
      ],
      "metadata": {
        "id": "ODzRYVQxElDE"
      }
    },
    {
      "cell_type": "markdown",
      "source": [
        "  1. Titanic 各欄位的定義\n",
        "* PassengerID：乘客ID\n",
        "* Survived：生存狀態（0=No，1=Yes）  \n",
        "* Pclass：艙等 （1=1st, 2=2nd, 3=3rd）\n",
        "* Name：姓名  \n",
        "* Sex：性別  \n",
        "* Age：年紀\n",
        "* SibSp：兄弟姐妹/配偶的数量\n",
        "* Parch：父母/子女的数量\n",
        "* Ticket：船票號碼\n",
        "* Fare：船票價格\n",
        "* Cabin：艙位號碼\n",
        "* Embarked：登船港口（C=Cherbourg,　Q=Queenstown,　S=Southampton）\n",
        "\n",
        "\n"
      ],
      "metadata": {
        "id": "WzEfCpUpFnwE"
      }
    },
    {
      "cell_type": "markdown",
      "source": [
        "  2. 資料概況"
      ],
      "metadata": {
        "id": "5pmD7hLCF4Jk"
      }
    },
    {
      "cell_type": "code",
      "source": [
        "df.info()"
      ],
      "metadata": {
        "id": "XmKZxgtfKYVm"
      },
      "execution_count": null,
      "outputs": []
    },
    {
      "cell_type": "code",
      "source": [
        "df.describe()"
      ],
      "metadata": {
        "id": "86H-OPF-KcnF"
      },
      "execution_count": null,
      "outputs": []
    },
    {
      "cell_type": "code",
      "source": [
        "df.isnull().sum()"
      ],
      "metadata": {
        "id": "7SfXfgGVKmF9"
      },
      "execution_count": null,
      "outputs": []
    },
    {
      "cell_type": "markdown",
      "source": [
        "3. 初步觀察：「Fare」欄位與「Survived」欄位正相關性最高"
      ],
      "metadata": {
        "id": "An5pyPozXtIR"
      }
    },
    {
      "cell_type": "code",
      "source": [
        "# 使用 Pearson 係數計算相關性\n",
        "cor = df.corr()\n",
        "cor"
      ],
      "metadata": {
        "id": "cJPDD3aELDjt"
      },
      "execution_count": null,
      "outputs": []
    },
    {
      "cell_type": "code",
      "source": [
        "# 使用seaborn和matplotlib，視覺化呈現相關性\n",
        "import seaborn as sns\n",
        "import matplotlib.pyplot as plt\n",
        "\n",
        "plt.figure(figsize=(10,8))\n",
        "sns.heatmap(cor,annot=True,linewidth=0.5,cmap='coolwarm')\n",
        "plt.title('Correlation Matrix of Titanic')\n",
        "plt.show()"
      ],
      "metadata": {
        "id": "UC8khQN1LKDe"
      },
      "execution_count": null,
      "outputs": []
    },
    {
      "cell_type": "markdown",
      "source": [
        "# **資料前處理**"
      ],
      "metadata": {
        "id": "YB7yKe7wMgVF"
      }
    },
    {
      "cell_type": "markdown",
      "source": [
        "1. 處理缺失值\n",
        "* 刪除有缺失值的資料\n",
        "* 刪除多餘的欄位\n",
        "  * Name：危機時期，比較不可能出現唱名救援\n",
        "  * Ticket：船票編號僅代表購買順序或核對資訊\n",
        "  * Cabin：欄位中的缺失值(687)佔全體(891)中的77%\n",
        "\n",
        "\n"
      ],
      "metadata": {
        "id": "0bld6r0UYm6h"
      }
    },
    {
      "cell_type": "code",
      "source": [
        "titanic = df.copy()\n",
        "titanic.dropna(inplace=True)\n",
        "titanic.drop(columns=['Name','Ticket','Cabin'],axis=1,inplace=True)"
      ],
      "metadata": {
        "id": "un2SrDhkOPpO"
      },
      "execution_count": null,
      "outputs": []
    },
    {
      "cell_type": "markdown",
      "source": [
        "2. 轉換類別欄位：Sex、Embarked"
      ],
      "metadata": {
        "id": "rAM8W8AxfdO4"
      }
    },
    {
      "cell_type": "code",
      "source": [
        "df_train = pd.get_dummies(titanic,columns=['Sex','Embarked'],dtype=int)\n",
        "df_train"
      ],
      "metadata": {
        "id": "Qj147x8Wfb56"
      },
      "execution_count": null,
      "outputs": []
    },
    {
      "cell_type": "markdown",
      "source": [
        "# **模型分析**"
      ],
      "metadata": {
        "id": "A2vGFPLclnXi"
      }
    },
    {
      "cell_type": "markdown",
      "source": [
        "1. 定義特徵欄位X、目標欄位Y，並完成訓練集資料"
      ],
      "metadata": {
        "id": "7Tbfp2n7gCUZ"
      }
    },
    {
      "cell_type": "code",
      "source": [
        "columns_X = set(df_train.columns) - {'Survived'}\n",
        "columns_y = ['Survived']\n",
        "\n",
        "train_X = df_train[columns_X]\n",
        "train_y = df_train[columns_y]"
      ],
      "metadata": {
        "id": "jrGjKgUClZcz"
      },
      "execution_count": null,
      "outputs": []
    },
    {
      "cell_type": "markdown",
      "source": [
        "2. 使用 Logistic Regression 模型，進行交叉驗證以評估準確度"
      ],
      "metadata": {
        "id": "dKsgXxmJgOsu"
      }
    },
    {
      "cell_type": "code",
      "source": [
        "from sklearn.linear_model import LogisticRegression\n",
        "from sklearn.model_selection import cross_val_score\n",
        "\n",
        "log = LogisticRegression(random_state=0,max_iter=3000)\n",
        "scores = cross_val_score(log,train_X,train_y.values.ravel(),cv=5,scoring='accuracy')\n",
        "print(scores)\n",
        "print(scores.mean())"
      ],
      "metadata": {
        "colab": {
          "base_uri": "https://localhost:8080/"
        },
        "id": "IyxYJzRhgPIm",
        "outputId": "a4e9f069-cd16-43fc-9f84-779d21964d30"
      },
      "execution_count": 22,
      "outputs": [
        {
          "output_type": "stream",
          "name": "stdout",
          "text": [
            "[0.75675676 0.86486486 0.7027027  0.66666667 0.69444444]\n",
            "0.737087087087087\n"
          ]
        }
      ]
    },
    {
      "cell_type": "markdown",
      "source": [
        "# **結論：**\n",
        "## **1. 完成訓練集資料前處理和模型分析 Baseline。**\n",
        "## **2. 使用 Logistic Regression 交叉驗證後，Accuracy 平均值約為0.74。**"
      ],
      "metadata": {
        "id": "5U2hMK3drNcI"
      }
    }
  ]
}